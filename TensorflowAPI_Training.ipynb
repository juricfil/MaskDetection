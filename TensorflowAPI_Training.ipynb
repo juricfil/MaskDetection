{
  "nbformat": 4,
  "nbformat_minor": 0,
  "metadata": {
    "accelerator": "GPU",
    "colab": {
      "name": "TensorflowAPI_Training.ipynb",
      "provenance": [],
      "collapsed_sections": [],
      "toc_visible": true
    },
    "kernelspec": {
      "display_name": "Python 3",
      "name": "python3"
    }
  },
  "cells": [
    {
      "cell_type": "code",
      "metadata": {
        "id": "c4yA7eSiWCxR",
        "outputId": "77ec015c-6ae4-47e8-8994-0496368860f8",
        "colab": {
          "base_uri": "https://localhost:8080/"
        }
      },
      "source": [
        "!pip install --upgrade pip\n",
        "!pip install --upgrade protobuf"
      ],
      "execution_count": null,
      "outputs": [
        {
          "output_type": "stream",
          "text": [
            "Collecting pip\n",
            "\u001b[?25l  Downloading https://files.pythonhosted.org/packages/cb/28/91f26bd088ce8e22169032100d4260614fc3da435025ff389ef1d396a433/pip-20.2.4-py2.py3-none-any.whl (1.5MB)\n",
            "\r\u001b[K     |▏                               | 10kB 22.1MB/s eta 0:00:01\r\u001b[K     |▍                               | 20kB 3.3MB/s eta 0:00:01\r\u001b[K     |▋                               | 30kB 4.4MB/s eta 0:00:01\r\u001b[K     |▉                               | 40kB 4.7MB/s eta 0:00:01\r\u001b[K     |█                               | 51kB 3.9MB/s eta 0:00:01\r\u001b[K     |█▎                              | 61kB 4.3MB/s eta 0:00:01\r\u001b[K     |█▌                              | 71kB 4.7MB/s eta 0:00:01\r\u001b[K     |█▊                              | 81kB 5.1MB/s eta 0:00:01\r\u001b[K     |██                              | 92kB 5.1MB/s eta 0:00:01\r\u001b[K     |██▏                             | 102kB 5.2MB/s eta 0:00:01\r\u001b[K     |██▍                             | 112kB 5.2MB/s eta 0:00:01\r\u001b[K     |██▋                             | 122kB 5.2MB/s eta 0:00:01\r\u001b[K     |██▉                             | 133kB 5.2MB/s eta 0:00:01\r\u001b[K     |███                             | 143kB 5.2MB/s eta 0:00:01\r\u001b[K     |███▎                            | 153kB 5.2MB/s eta 0:00:01\r\u001b[K     |███▌                            | 163kB 5.2MB/s eta 0:00:01\r\u001b[K     |███▊                            | 174kB 5.2MB/s eta 0:00:01\r\u001b[K     |████                            | 184kB 5.2MB/s eta 0:00:01\r\u001b[K     |████▏                           | 194kB 5.2MB/s eta 0:00:01\r\u001b[K     |████▍                           | 204kB 5.2MB/s eta 0:00:01\r\u001b[K     |████▋                           | 215kB 5.2MB/s eta 0:00:01\r\u001b[K     |████▉                           | 225kB 5.2MB/s eta 0:00:01\r\u001b[K     |█████                           | 235kB 5.2MB/s eta 0:00:01\r\u001b[K     |█████▎                          | 245kB 5.2MB/s eta 0:00:01\r\u001b[K     |█████▍                          | 256kB 5.2MB/s eta 0:00:01\r\u001b[K     |█████▋                          | 266kB 5.2MB/s eta 0:00:01\r\u001b[K     |█████▉                          | 276kB 5.2MB/s eta 0:00:01\r\u001b[K     |██████                          | 286kB 5.2MB/s eta 0:00:01\r\u001b[K     |██████▎                         | 296kB 5.2MB/s eta 0:00:01\r\u001b[K     |██████▌                         | 307kB 5.2MB/s eta 0:00:01\r\u001b[K     |██████▊                         | 317kB 5.2MB/s eta 0:00:01\r\u001b[K     |███████                         | 327kB 5.2MB/s eta 0:00:01\r\u001b[K     |███████▏                        | 337kB 5.2MB/s eta 0:00:01\r\u001b[K     |███████▍                        | 348kB 5.2MB/s eta 0:00:01\r\u001b[K     |███████▋                        | 358kB 5.2MB/s eta 0:00:01\r\u001b[K     |███████▉                        | 368kB 5.2MB/s eta 0:00:01\r\u001b[K     |████████                        | 378kB 5.2MB/s eta 0:00:01\r\u001b[K     |████████▎                       | 389kB 5.2MB/s eta 0:00:01\r\u001b[K     |████████▌                       | 399kB 5.2MB/s eta 0:00:01\r\u001b[K     |████████▊                       | 409kB 5.2MB/s eta 0:00:01\r\u001b[K     |█████████                       | 419kB 5.2MB/s eta 0:00:01\r\u001b[K     |█████████▏                      | 430kB 5.2MB/s eta 0:00:01\r\u001b[K     |█████████▍                      | 440kB 5.2MB/s eta 0:00:01\r\u001b[K     |█████████▋                      | 450kB 5.2MB/s eta 0:00:01\r\u001b[K     |█████████▉                      | 460kB 5.2MB/s eta 0:00:01\r\u001b[K     |██████████                      | 471kB 5.2MB/s eta 0:00:01\r\u001b[K     |██████████▎                     | 481kB 5.2MB/s eta 0:00:01\r\u001b[K     |██████████▌                     | 491kB 5.2MB/s eta 0:00:01\r\u001b[K     |██████████▊                     | 501kB 5.2MB/s eta 0:00:01\r\u001b[K     |██████████▉                     | 512kB 5.2MB/s eta 0:00:01\r\u001b[K     |███████████                     | 522kB 5.2MB/s eta 0:00:01\r\u001b[K     |███████████▎                    | 532kB 5.2MB/s eta 0:00:01\r\u001b[K     |███████████▌                    | 542kB 5.2MB/s eta 0:00:01\r\u001b[K     |███████████▊                    | 552kB 5.2MB/s eta 0:00:01\r\u001b[K     |████████████                    | 563kB 5.2MB/s eta 0:00:01\r\u001b[K     |████████████▏                   | 573kB 5.2MB/s eta 0:00:01\r\u001b[K     |████████████▍                   | 583kB 5.2MB/s eta 0:00:01\r\u001b[K     |████████████▋                   | 593kB 5.2MB/s eta 0:00:01\r\u001b[K     |████████████▉                   | 604kB 5.2MB/s eta 0:00:01\r\u001b[K     |█████████████                   | 614kB 5.2MB/s eta 0:00:01\r\u001b[K     |█████████████▎                  | 624kB 5.2MB/s eta 0:00:01\r\u001b[K     |█████████████▌                  | 634kB 5.2MB/s eta 0:00:01\r\u001b[K     |█████████████▊                  | 645kB 5.2MB/s eta 0:00:01\r\u001b[K     |██████████████                  | 655kB 5.2MB/s eta 0:00:01\r\u001b[K     |██████████████▏                 | 665kB 5.2MB/s eta 0:00:01\r\u001b[K     |██████████████▍                 | 675kB 5.2MB/s eta 0:00:01\r\u001b[K     |██████████████▋                 | 686kB 5.2MB/s eta 0:00:01\r\u001b[K     |██████████████▉                 | 696kB 5.2MB/s eta 0:00:01\r\u001b[K     |███████████████                 | 706kB 5.2MB/s eta 0:00:01\r\u001b[K     |███████████████▎                | 716kB 5.2MB/s eta 0:00:01\r\u001b[K     |███████████████▌                | 727kB 5.2MB/s eta 0:00:01\r\u001b[K     |███████████████▊                | 737kB 5.2MB/s eta 0:00:01\r\u001b[K     |████████████████                | 747kB 5.2MB/s eta 0:00:01\r\u001b[K     |████████████████▏               | 757kB 5.2MB/s eta 0:00:01\r\u001b[K     |████████████████▎               | 768kB 5.2MB/s eta 0:00:01\r\u001b[K     |████████████████▌               | 778kB 5.2MB/s eta 0:00:01\r\u001b[K     |████████████████▊               | 788kB 5.2MB/s eta 0:00:01\r\u001b[K     |█████████████████               | 798kB 5.2MB/s eta 0:00:01\r\u001b[K     |█████████████████▏              | 808kB 5.2MB/s eta 0:00:01\r\u001b[K     |█████████████████▍              | 819kB 5.2MB/s eta 0:00:01\r\u001b[K     |█████████████████▋              | 829kB 5.2MB/s eta 0:00:01\r\u001b[K     |█████████████████▉              | 839kB 5.2MB/s eta 0:00:01\r\u001b[K     |██████████████████              | 849kB 5.2MB/s eta 0:00:01\r\u001b[K     |██████████████████▎             | 860kB 5.2MB/s eta 0:00:01\r\u001b[K     |██████████████████▌             | 870kB 5.2MB/s eta 0:00:01\r\u001b[K     |██████████████████▊             | 880kB 5.2MB/s eta 0:00:01\r\u001b[K     |███████████████████             | 890kB 5.2MB/s eta 0:00:01\r\u001b[K     |███████████████████▏            | 901kB 5.2MB/s eta 0:00:01\r\u001b[K     |███████████████████▍            | 911kB 5.2MB/s eta 0:00:01\r\u001b[K     |███████████████████▋            | 921kB 5.2MB/s eta 0:00:01\r\u001b[K     |███████████████████▉            | 931kB 5.2MB/s eta 0:00:01\r\u001b[K     |████████████████████            | 942kB 5.2MB/s eta 0:00:01\r\u001b[K     |████████████████████▎           | 952kB 5.2MB/s eta 0:00:01\r\u001b[K     |████████████████████▌           | 962kB 5.2MB/s eta 0:00:01\r\u001b[K     |████████████████████▊           | 972kB 5.2MB/s eta 0:00:01\r\u001b[K     |█████████████████████           | 983kB 5.2MB/s eta 0:00:01\r\u001b[K     |█████████████████████▏          | 993kB 5.2MB/s eta 0:00:01\r\u001b[K     |█████████████████████▍          | 1.0MB 5.2MB/s eta 0:00:01\r\u001b[K     |█████████████████████▋          | 1.0MB 5.2MB/s eta 0:00:01\r\u001b[K     |█████████████████████▊          | 1.0MB 5.2MB/s eta 0:00:01\r\u001b[K     |██████████████████████          | 1.0MB 5.2MB/s eta 0:00:01\r\u001b[K     |██████████████████████▏         | 1.0MB 5.2MB/s eta 0:00:01\r\u001b[K     |██████████████████████▍         | 1.1MB 5.2MB/s eta 0:00:01\r\u001b[K     |██████████████████████▋         | 1.1MB 5.2MB/s eta 0:00:01\r\u001b[K     |██████████████████████▉         | 1.1MB 5.2MB/s eta 0:00:01\r\u001b[K     |███████████████████████         | 1.1MB 5.2MB/s eta 0:00:01\r\u001b[K     |███████████████████████▎        | 1.1MB 5.2MB/s eta 0:00:01\r\u001b[K     |███████████████████████▌        | 1.1MB 5.2MB/s eta 0:00:01\r\u001b[K     |███████████████████████▊        | 1.1MB 5.2MB/s eta 0:00:01\r\u001b[K     |████████████████████████        | 1.1MB 5.2MB/s eta 0:00:01\r\u001b[K     |████████████████████████▏       | 1.1MB 5.2MB/s eta 0:00:01\r\u001b[K     |████████████████████████▍       | 1.1MB 5.2MB/s eta 0:00:01\r\u001b[K     |████████████████████████▋       | 1.2MB 5.2MB/s eta 0:00:01\r\u001b[K     |████████████████████████▉       | 1.2MB 5.2MB/s eta 0:00:01\r\u001b[K     |█████████████████████████       | 1.2MB 5.2MB/s eta 0:00:01\r\u001b[K     |█████████████████████████▎      | 1.2MB 5.2MB/s eta 0:00:01\r\u001b[K     |█████████████████████████▌      | 1.2MB 5.2MB/s eta 0:00:01\r\u001b[K     |█████████████████████████▊      | 1.2MB 5.2MB/s eta 0:00:01\r\u001b[K     |██████████████████████████      | 1.2MB 5.2MB/s eta 0:00:01\r\u001b[K     |██████████████████████████▏     | 1.2MB 5.2MB/s eta 0:00:01\r\u001b[K     |██████████████████████████▍     | 1.2MB 5.2MB/s eta 0:00:01\r\u001b[K     |██████████████████████████▋     | 1.2MB 5.2MB/s eta 0:00:01\r\u001b[K     |██████████████████████████▉     | 1.3MB 5.2MB/s eta 0:00:01\r\u001b[K     |███████████████████████████     | 1.3MB 5.2MB/s eta 0:00:01\r\u001b[K     |███████████████████████████▏    | 1.3MB 5.2MB/s eta 0:00:01\r\u001b[K     |███████████████████████████▍    | 1.3MB 5.2MB/s eta 0:00:01\r\u001b[K     |███████████████████████████▋    | 1.3MB 5.2MB/s eta 0:00:01\r\u001b[K     |███████████████████████████▉    | 1.3MB 5.2MB/s eta 0:00:01\r\u001b[K     |████████████████████████████    | 1.3MB 5.2MB/s eta 0:00:01\r\u001b[K     |████████████████████████████▎   | 1.3MB 5.2MB/s eta 0:00:01\r\u001b[K     |████████████████████████████▌   | 1.3MB 5.2MB/s eta 0:00:01\r\u001b[K     |████████████████████████████▊   | 1.4MB 5.2MB/s eta 0:00:01\r\u001b[K     |█████████████████████████████   | 1.4MB 5.2MB/s eta 0:00:01\r\u001b[K     |█████████████████████████████▏  | 1.4MB 5.2MB/s eta 0:00:01\r\u001b[K     |█████████████████████████████▍  | 1.4MB 5.2MB/s eta 0:00:01\r\u001b[K     |█████████████████████████████▋  | 1.4MB 5.2MB/s eta 0:00:01\r\u001b[K     |█████████████████████████████▉  | 1.4MB 5.2MB/s eta 0:00:01\r\u001b[K     |██████████████████████████████  | 1.4MB 5.2MB/s eta 0:00:01\r\u001b[K     |██████████████████████████████▎ | 1.4MB 5.2MB/s eta 0:00:01\r\u001b[K     |██████████████████████████████▌ | 1.4MB 5.2MB/s eta 0:00:01\r\u001b[K     |██████████████████████████████▊ | 1.4MB 5.2MB/s eta 0:00:01\r\u001b[K     |███████████████████████████████ | 1.5MB 5.2MB/s eta 0:00:01\r\u001b[K     |███████████████████████████████▏| 1.5MB 5.2MB/s eta 0:00:01\r\u001b[K     |███████████████████████████████▍| 1.5MB 5.2MB/s eta 0:00:01\r\u001b[K     |███████████████████████████████▋| 1.5MB 5.2MB/s eta 0:00:01\r\u001b[K     |███████████████████████████████▉| 1.5MB 5.2MB/s eta 0:00:01\r\u001b[K     |████████████████████████████████| 1.5MB 5.2MB/s \n",
            "\u001b[?25hInstalling collected packages: pip\n",
            "  Found existing installation: pip 19.3.1\n",
            "    Uninstalling pip-19.3.1:\n",
            "      Successfully uninstalled pip-19.3.1\n",
            "Successfully installed pip-20.2.4\n",
            "Collecting protobuf\n",
            "  Downloading protobuf-3.13.0-cp36-cp36m-manylinux1_x86_64.whl (1.3 MB)\n",
            "\u001b[K     |████████████████████████████████| 1.3 MB 4.4 MB/s \n",
            "\u001b[?25hRequirement already satisfied, skipping upgrade: setuptools in /usr/local/lib/python3.6/dist-packages (from protobuf) (50.3.0)\n",
            "Requirement already satisfied, skipping upgrade: six>=1.9 in /usr/local/lib/python3.6/dist-packages (from protobuf) (1.15.0)\n",
            "Installing collected packages: protobuf\n",
            "  Attempting uninstall: protobuf\n",
            "    Found existing installation: protobuf 3.12.4\n",
            "    Uninstalling protobuf-3.12.4:\n",
            "      Successfully uninstalled protobuf-3.12.4\n",
            "Successfully installed protobuf-3.13.0\n"
          ],
          "name": "stdout"
        },
        {
          "output_type": "display_data",
          "data": {
            "application/vnd.colab-display-data+json": {
              "pip_warning": {
                "packages": [
                  "google"
                ]
              }
            }
          },
          "metadata": {
            "tags": []
          }
        }
      ]
    },
    {
      "cell_type": "code",
      "metadata": {
        "id": "ySq5cDB7WWzU",
        "outputId": "9ece5b97-06e8-4e0c-fdfe-5f5d266e6d7c",
        "colab": {
          "base_uri": "https://localhost:8080/"
        }
      },
      "source": [
        "%tensorflow_version 1.15\n",
        "import tensorflow as tf\n",
        "print(tf.__version__)\n",
        "\n",
        "!pip install numpy"
      ],
      "execution_count": null,
      "outputs": [
        {
          "output_type": "stream",
          "text": [
            "`%tensorflow_version` only switches the major version: 1.x or 2.x.\n",
            "You set: `1.15`. This will be interpreted as: `1.x`.\n",
            "\n",
            "\n",
            "TensorFlow 1.x selected.\n",
            "1.15.2\n",
            "Requirement already satisfied: numpy in /usr/local/lib/python3.6/dist-packages (1.18.5)\n"
          ],
          "name": "stdout"
        }
      ]
    },
    {
      "cell_type": "markdown",
      "metadata": {
        "id": "rlGVKwlWWytT"
      },
      "source": [
        "Provjeri GPU"
      ]
    },
    {
      "cell_type": "code",
      "metadata": {
        "id": "7bNt_Vf_Wxsd",
        "outputId": "d4876a97-cdfb-4334-9734-d51c1006a43c",
        "colab": {
          "base_uri": "https://localhost:8080/"
        }
      },
      "source": [
        "#ako izbaci error ukljuci ga u runtime-u\n",
        "device_name = tf.test.gpu_device_name()\n",
        "if device_name != '/device:GPU:0':\n",
        "  raise SystemError('GPU device not found')\n",
        "\n",
        "print('Found GPU at:{}'.format(device_name))"
      ],
      "execution_count": null,
      "outputs": [
        {
          "output_type": "stream",
          "text": [
            "Found GPU at:/device:GPU:0\n"
          ],
          "name": "stdout"
        }
      ]
    },
    {
      "cell_type": "code",
      "metadata": {
        "id": "5WZLicrVXzW0",
        "outputId": "917557fb-863a-4a25-e0e6-569df070b417",
        "colab": {
          "base_uri": "https://localhost:8080/"
        }
      },
      "source": [
        "# memory footprint support libraries/code\n",
        "!ln -sf /opt/bin/nvidia-smi /usr/bin/nvidia-smi\n",
        "!pip install gputil\n",
        "!pip install psutil\n",
        "!pip install humanize\n",
        "import psutil\n",
        "import humanize\n",
        "import os\n",
        "import GPUtil as GPU\n",
        "GPUs = GPU.getGPUs()\n",
        "# XXX: only one GPU on Colab and isn’t guaranteed\n",
        "gpu = GPUs[0]\n",
        "def printm():\n",
        " process = psutil.Process(os.getpid())\n",
        " print(\"Gen RAM Free: \" + humanize.naturalsize( psutil.virtual_memory().available ), \" | Proc size: \" + humanize.naturalsize( process.memory_info().rss))\n",
        " print(\"GPU RAM Free: {0:.0f}MB | Used: {1:.0f}MB | Util {2:3.0f}% | Total {3:.0f}MB\".format(gpu.memoryFree, gpu.memoryUsed, gpu.memoryUtil*100, gpu.memoryTotal))\n",
        "printm()"
      ],
      "execution_count": null,
      "outputs": [
        {
          "output_type": "stream",
          "text": [
            "Collecting gputil\n",
            "  Downloading GPUtil-1.4.0.tar.gz (5.5 kB)\n",
            "Building wheels for collected packages: gputil\n",
            "  Building wheel for gputil (setup.py) ... \u001b[?25l\u001b[?25hdone\n",
            "  Created wheel for gputil: filename=GPUtil-1.4.0-py3-none-any.whl size=7409 sha256=506afb12b6e477986269baaf4c029a26f52306874909319188f603c18decfdb2\n",
            "  Stored in directory: /root/.cache/pip/wheels/79/c1/b2/b6fc2647f693a084da25e1d31328ab3dbb565cc58fea37e973\n",
            "Successfully built gputil\n",
            "Installing collected packages: gputil\n",
            "Successfully installed gputil-1.4.0\n",
            "Requirement already satisfied: psutil in /usr/local/lib/python3.6/dist-packages (5.4.8)\n",
            "Requirement already satisfied: humanize in /usr/local/lib/python3.6/dist-packages (0.5.1)\n",
            "Gen RAM Free: 12.6 GB  | Proc size: 463.4 MB\n",
            "GPU RAM Free: 14968MB | Used: 111MB | Util   1% | Total 15079MB\n"
          ],
          "name": "stdout"
        }
      ]
    },
    {
      "cell_type": "markdown",
      "metadata": {
        "id": "rMBmTTGsYC8b"
      },
      "source": [
        "#Dodaj Google drive foldere"
      ]
    },
    {
      "cell_type": "code",
      "metadata": {
        "id": "NRVTLSVxYDRy"
      },
      "source": [
        "from google.colab import drive\n",
        "drive.mount('/content/gdrive')\n",
        "\n",
        "# uci u working directory tensorflowa na driveu\n",
        "%cd '/content/gdrive/My Drive/models/'"
      ],
      "execution_count": null,
      "outputs": []
    },
    {
      "cell_type": "markdown",
      "metadata": {
        "id": "KUhvl_fUYd8C"
      },
      "source": [
        "# podesi protobuf, setup.py iz tf API"
      ]
    },
    {
      "cell_type": "code",
      "metadata": {
        "id": "5C6SkBJ1YcV9"
      },
      "source": [
        "!apt-get install protobuf-compiler python-pil python-lxml python-tk\n",
        "!pip install Cython\n",
        "%cd /content/gdrive/My Drive/Object_Detection_Files/models/research/\n",
        "!protoc object_detection/protos/*.proto --python_out=.\n",
        "\n",
        "import os\n",
        "os.environ['PYTHONPATH'] += ':/content/gdrive/My Drive/models/research/:/content/gdrive/My Drive/Tensorflow/models/research/slim'\n",
        "\n",
        "!python setup.py build\n",
        "!python setup.py install\n",
        "\n"
      ],
      "execution_count": null,
      "outputs": []
    },
    {
      "cell_type": "markdown",
      "metadata": {
        "id": "Lfuyxl-bYu1o"
      },
      "source": [
        "Provjeri koliko ti je ostalo vremena na GPU, da ti nebi crashalo(cca 12 sati po sesiji)"
      ]
    },
    {
      "cell_type": "code",
      "metadata": {
        "id": "UoowtWWqYvHm"
      },
      "source": [
        "import time, psutil\n",
        "Start = time.time()- psutil.boot_time()\n",
        "Left= 12*3600 - Start\n",
        "print('Time remaining for this session is: ', Left/3600)\n"
      ],
      "execution_count": null,
      "outputs": []
    },
    {
      "cell_type": "markdown",
      "metadata": {
        "id": "YhfEVX3wZItM"
      },
      "source": [
        "#Započni trening"
      ]
    },
    {
      "cell_type": "code",
      "metadata": {
        "id": "C6w5D3xmZH42"
      },
      "source": [
        "!pip install tf_slim\n",
        "%cd /content/gdrive/My Drive/models/research/object_detection\n",
        "os.environ['PYTHONPATH'] += ':/content/gdrive/My Drive/models/research/:/content/gdrive/My Drive/Tensorflow/models/research/slim'\n",
        "\n",
        "!python train.py --train_dir=training/ --pipeline_config_path='/content/gdrive/My Drive/hardhat/training/ssd_mobilenet_v1_pets.config' --logtostderr\n"
      ],
      "execution_count": null,
      "outputs": []
    },
    {
      "cell_type": "code",
      "metadata": {
        "id": "T6uw42BudSJ9"
      },
      "source": [
        "!python export_inference_graph.py --input_type image_tensor --pipeline_config_path=training/ssd_mobilenet_v1_pets.config --trained_checkpoint_prefix=training/model.ckpt-169579 --output_directory=new_graph_masks"
      ],
      "execution_count": null,
      "outputs": []
    },
    {
      "cell_type": "markdown",
      "metadata": {
        "id": "QDB2xnRCZcGE"
      },
      "source": [
        "#izbaci model graf na google drive"
      ]
    },
    {
      "cell_type": "code",
      "metadata": {
        "id": "dTRsavXCZcfH"
      },
      "source": [
        "!zip -r model_graph_hardhat . -i new_graph_hardhat.zip"
      ],
      "execution_count": null,
      "outputs": []
    }
  ]
}